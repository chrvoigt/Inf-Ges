{
 "cells": [
  {
   "cell_type": "markdown",
   "metadata": {
    "hideCode": false,
    "hidePrompt": false,
    "toc": true
   },
   "source": [
    "<h1>Table of Contents<span class=\"tocSkip\"></span></h1>\n",
    "<div class=\"toc\"><ul class=\"toc-item\"></ul></div>"
   ]
  },
  {
   "cell_type": "code",
   "execution_count": 1,
   "metadata": {
    "hideCode": false,
    "hidePrompt": false
   },
   "outputs": [],
   "source": [
    "import numpy as np\n",
    "import pandas as pd\n",
    "import matplotlib.pyplot as plt\n",
    "import seaborn as sns\n",
    "import datetime\n",
    "%matplotlib inline\n",
    "sns.set_style(\"whitegrid\")\n",
    "#sns.set_context(\"poster\")\n"
   ]
  },
  {
   "cell_type": "code",
   "execution_count": 27,
   "metadata": {
    "hideCode": false,
    "hidePrompt": false,
    "scrolled": true
   },
   "outputs": [],
   "source": [
    "df = pd.read_csv('data/search.csv', encoding='utf8')\n",
    "#df.head() "
   ]
  },
  {
   "cell_type": "code",
   "execution_count": 3,
   "metadata": {
    "hideCode": false,
    "hidePrompt": false
   },
   "outputs": [],
   "source": [
    "#df.describe()"
   ]
  },
  {
   "cell_type": "code",
   "execution_count": 30,
   "metadata": {
    "hideCode": false,
    "hidePrompt": false
   },
   "outputs": [
    {
     "data": {
      "text/plain": [
       "['First Search Time (GMT)',\n",
       " 'Country ID',\n",
       " 'All Department (APS) or Category',\n",
       " 'Site Variant',\n",
       " 'Device Type',\n",
       " 'Device Model',\n",
       " 'Search Type (Keyword,Visual,Browse)',\n",
       " 'Session ID',\n",
       " 'Query ID',\n",
       " 'Prime Customer (Y/N)',\n",
       " 'Is From External Link (Y/N)',\n",
       " 'Search From External Site (Y/N)',\n",
       " 'First Search Query String',\n",
       " 'Application Name',\n",
       " 'App Version',\n",
       " 'Operating System Name',\n",
       " 'Operating System Version',\n",
       " 'Device Type ID',\n",
       " 'Device Category',\n",
       " 'Customer IP',\n",
       " 'Search Method',\n",
       " 'Keywords',\n",
       " 'Amazon Business Customer (Y/N)',\n",
       " 'Language',\n",
       " 'Server',\n",
       " 'Amazon Fresh Customer (Y/N)',\n",
       " 'Music Subscriber (Y/N)',\n",
       " 'First Browse Node',\n",
       " 'Last search Time (GMT)',\n",
       " 'Last Department',\n",
       " 'Last Browse Node',\n",
       " 'Last Known Customer ID',\n",
       " 'First Added Item',\n",
       " 'First Purchased Item',\n",
       " 'First Consumed Item (Subscription)',\n",
       " 'Number of Clicked Items',\n",
       " 'Number of Items Added to Cart',\n",
       " 'Number of Items Ordered',\n",
       " 'Number of Paid Items Ordered',\n",
       " 'Number of Free Items Ordered',\n",
       " 'Units Ordered',\n",
       " 'Paid Units Ordered',\n",
       " 'Free Units Ordered',\n",
       " 'Maximum Purchase Price',\n",
       " 'Clicked Any Item (Y/N)',\n",
       " 'Added Any Item (Y/N)',\n",
       " 'Purchased Any Item (Y/N)',\n",
       " 'Department Count',\n",
       " 'Shopping Refinement',\n",
       " 'Number of Shopping Refinements',\n",
       " 'Highest Number of Shopping Refinements',\n",
       " 'Items Consumed (Subscription)',\n",
       " 'Shopping Refinement Pickers',\n",
       " 'Paid Purchase (Y/N)',\n",
       " 'Item Borrowed (Y/N)',\n",
       " 'Items Borrowed',\n",
       " 'Next Query Group via Click',\n",
       " 'Query Abandoned (Y/N)',\n",
       " 'Query Reformulated (Y/N)',\n",
       " 'Amazon Fresh (Y/N)',\n",
       " 'Store Visited']"
      ]
     },
     "execution_count": 30,
     "metadata": {},
     "output_type": "execute_result"
    }
   ],
   "source": [
    "list(df.columns)"
   ]
  },
  {
   "cell_type": "code",
   "execution_count": 5,
   "metadata": {
    "hideCode": false,
    "hidePrompt": false,
    "scrolled": true
   },
   "outputs": [
    {
     "data": {
      "text/html": [
       "<div>\n",
       "<style scoped>\n",
       "    .dataframe tbody tr th:only-of-type {\n",
       "        vertical-align: middle;\n",
       "    }\n",
       "\n",
       "    .dataframe tbody tr th {\n",
       "        vertical-align: top;\n",
       "    }\n",
       "\n",
       "    .dataframe thead th {\n",
       "        text-align: right;\n",
       "    }\n",
       "</style>\n",
       "<table border=\"1\" class=\"dataframe\">\n",
       "  <thead>\n",
       "    <tr style=\"text-align: right;\">\n",
       "      <th></th>\n",
       "      <th>ext_link</th>\n",
       "      <th>ext_search</th>\n",
       "      <th>purchase</th>\n",
       "      <th>clicks</th>\n",
       "      <th>card_added</th>\n",
       "      <th>card_ordered</th>\n",
       "    </tr>\n",
       "  </thead>\n",
       "  <tbody>\n",
       "    <tr>\n",
       "      <td>count</td>\n",
       "      <td>425.0</td>\n",
       "      <td>425.0</td>\n",
       "      <td>425.0</td>\n",
       "      <td>425.0</td>\n",
       "      <td>425.0</td>\n",
       "      <td>425.0</td>\n",
       "    </tr>\n",
       "    <tr>\n",
       "      <td>mean</td>\n",
       "      <td>0.0</td>\n",
       "      <td>0.0</td>\n",
       "      <td>0.0</td>\n",
       "      <td>2.0</td>\n",
       "      <td>0.0</td>\n",
       "      <td>0.0</td>\n",
       "    </tr>\n",
       "    <tr>\n",
       "      <td>std</td>\n",
       "      <td>0.0</td>\n",
       "      <td>0.0</td>\n",
       "      <td>0.0</td>\n",
       "      <td>2.0</td>\n",
       "      <td>0.0</td>\n",
       "      <td>0.0</td>\n",
       "    </tr>\n",
       "    <tr>\n",
       "      <td>min</td>\n",
       "      <td>0.0</td>\n",
       "      <td>0.0</td>\n",
       "      <td>0.0</td>\n",
       "      <td>0.0</td>\n",
       "      <td>0.0</td>\n",
       "      <td>0.0</td>\n",
       "    </tr>\n",
       "    <tr>\n",
       "      <td>25%</td>\n",
       "      <td>0.0</td>\n",
       "      <td>0.0</td>\n",
       "      <td>0.0</td>\n",
       "      <td>0.0</td>\n",
       "      <td>0.0</td>\n",
       "      <td>0.0</td>\n",
       "    </tr>\n",
       "    <tr>\n",
       "      <td>50%</td>\n",
       "      <td>0.0</td>\n",
       "      <td>0.0</td>\n",
       "      <td>0.0</td>\n",
       "      <td>1.0</td>\n",
       "      <td>0.0</td>\n",
       "      <td>0.0</td>\n",
       "    </tr>\n",
       "    <tr>\n",
       "      <td>75%</td>\n",
       "      <td>0.0</td>\n",
       "      <td>0.0</td>\n",
       "      <td>0.0</td>\n",
       "      <td>2.0</td>\n",
       "      <td>0.0</td>\n",
       "      <td>0.0</td>\n",
       "    </tr>\n",
       "    <tr>\n",
       "      <td>max</td>\n",
       "      <td>1.0</td>\n",
       "      <td>1.0</td>\n",
       "      <td>1.0</td>\n",
       "      <td>18.0</td>\n",
       "      <td>2.0</td>\n",
       "      <td>2.0</td>\n",
       "    </tr>\n",
       "  </tbody>\n",
       "</table>\n",
       "</div>"
      ],
      "text/plain": [
       "       ext_link  ext_search  purchase  clicks  card_added  card_ordered\n",
       "count     425.0       425.0     425.0   425.0       425.0         425.0\n",
       "mean        0.0         0.0       0.0     2.0         0.0           0.0\n",
       "std         0.0         0.0       0.0     2.0         0.0           0.0\n",
       "min         0.0         0.0       0.0     0.0         0.0           0.0\n",
       "25%         0.0         0.0       0.0     0.0         0.0           0.0\n",
       "50%         0.0         0.0       0.0     1.0         0.0           0.0\n",
       "75%         0.0         0.0       0.0     2.0         0.0           0.0\n",
       "max         1.0         1.0       1.0    18.0         2.0           2.0"
      ]
     },
     "execution_count": 5,
     "metadata": {},
     "output_type": "execute_result"
    }
   ],
   "source": [
    "subset = df[['First Search Time (GMT)','All Department (APS) or Category', 'Keywords', 'Is From External Link (Y/N)','Search From External Site (Y/N)','Paid Purchase (Y/N)','Number of Clicked Items', 'Number of Items Added to Cart', 'Number of Items Ordered']]\n",
    "subset.columns = ['time','category','keyword','ext_link','ext_search','purchase','clicks', 'card_added','card_ordered']\n",
    "subset.describe().round()"
   ]
  },
  {
   "cell_type": "code",
   "execution_count": 7,
   "metadata": {
    "hideCode": false,
    "hidePrompt": false
   },
   "outputs": [
    {
     "name": "stdout",
     "output_type": "stream",
     "text": [
      "<class 'pandas._libs.tslibs.timestamps.Timestamp'>\n",
      "0   2017-01-04 22:12:00\n",
      "1   2018-01-07 20:21:26\n",
      "2   2016-03-08 21:50:46\n",
      "Name: time, dtype: datetime64[ns]\n"
     ]
    }
   ],
   "source": [
    "print (type(subset.time[0]))\n",
    "subset.loc[:,'time'] = pd.to_datetime(subset.time)\n",
    "print (subset.time[0:3,])"
   ]
  },
  {
   "cell_type": "code",
   "execution_count": 9,
   "metadata": {},
   "outputs": [],
   "source": [
    "subset.loc[:,'year'] = subset['time'].dt.year.values.astype(int)\n",
    "subset.loc[:,'month'] = subset['time'].dt.month.values.astype(int)\n",
    "subset.loc[:,'day'] = subset['time'].dt.day.values.astype(int)\n",
    "subset.loc[:,'hour'] = subset['time'].dt.hour.values.astype(int)\n",
    "subset.loc[:,'day_name'] = subset['time'].dt.day_name() \n",
    "#subset.head(3)"
   ]
  },
  {
   "cell_type": "code",
   "execution_count": 10,
   "metadata": {
    "hideCode": false,
    "hidePrompt": false,
    "scrolled": true
   },
   "outputs": [
    {
     "name": "stdout",
     "output_type": "stream",
     "text": [
      "2016-02-22 22:05:19\n",
      "2019-01-11 07:02:55\n"
     ]
    }
   ],
   "source": [
    "print(subset.time.min())\n",
    "print(subset.time.max())"
   ]
  },
  {
   "cell_type": "code",
   "execution_count": 11,
   "metadata": {},
   "outputs": [
    {
     "data": {
      "image/png": "[encoded data removed]",
      "text/plain": [
       "<Figure size 360x360 with 1 Axes>"
      ]
     },
     "metadata": {
      "needs_background": "light"
     },
     "output_type": "display_data"
    }
   ],
   "source": [
    "subset.year.plot(kind='hist',fontsize = 15, figsize=(5,5));"
   ]
  },
  {
   "cell_type": "code",
   "execution_count": 12,
   "metadata": {},
   "outputs": [
    {
     "data": {
      "text/plain": [
       "<matplotlib.axes._subplots.AxesSubplot at 0x11f6f4198>"
      ]
     },
     "execution_count": 12,
     "metadata": {},
     "output_type": "execute_result"
    },
    {
     "data": {
      "image/png": "[encoded data removed]",
      "text/plain": [
       "<Figure size 432x288 with 1 Axes>"
      ]
     },
     "metadata": {
      "needs_background": "light"
     },
     "output_type": "display_data"
    }
   ],
   "source": [
    "month_hist = subset.groupby('month').size()\n",
    "month_hist = month_hist.sort_values(ascending=False)\n",
    "month_hist.plot.bar(fontsize = 15)"
   ]
  },
  {
   "cell_type": "code",
   "execution_count": 34,
   "metadata": {
    "scrolled": false
   },
   "outputs": [
    {
     "data": {
      "text/plain": [
       "<matplotlib.axes._subplots.AxesSubplot at 0x11f6e9b38>"
      ]
     },
     "execution_count": 34,
     "metadata": {},
     "output_type": "execute_result"
    },
    {
     "data": {
      "image/png": "[encoded data removed]",
      "text/plain": [
       "<Figure size 432x288 with 1 Axes>"
      ]
     },
     "metadata": {},
     "output_type": "display_data"
    }
   ],
   "source": [
    "day_hist = subset.groupby('day_name').size()\n",
    "day_hist = day_hist.sort_values(ascending=False)\n",
    "day_hist.plot.bar(fontsize = 15, width =0.3)"
   ]
  },
  {
   "cell_type": "code",
   "execution_count": 35,
   "metadata": {},
   "outputs": [
    {
     "data": {
      "text/plain": [
       "<matplotlib.axes._subplots.AxesSubplot at 0x11cfa74e0>"
      ]
     },
     "execution_count": 35,
     "metadata": {},
     "output_type": "execute_result"
    },
    {
     "data": {
      "image/png": "[encoded data removed]",
      "text/plain": [
       "<Figure size 720x288 with 1 Axes>"
      ]
     },
     "metadata": {},
     "output_type": "display_data"
    }
   ],
   "source": [
    "hour_hist = subset.groupby('hour').size()\n",
    "hour_hist = hour_hist.sort_values(ascending=False)\n",
    "hour_hist.plot.bar(fontsize = 15, figsize=(10,4))"
   ]
  },
  {
   "cell_type": "code",
   "execution_count": 15,
   "metadata": {
    "hideCode": false,
    "hidePrompt": false,
    "scrolled": true
   },
   "outputs": [
    {
     "data": {
      "image/png": "[encoded data removed]",
      "text/plain": [
       "<Figure size 1224x360 with 1 Axes>"
      ]
     },
     "metadata": {
      "needs_background": "light"
     },
     "output_type": "display_data"
    }
   ],
   "source": [
    "category=subset.groupby(['category']).size()\n",
    "category.plot(kind='bar',figsize=(17,5));\n",
    "#categories are bascically user choices from the search dopdown on amazon.com \n",
    "#aps stands for 'look in all categories'"
   ]
  },
  {
   "cell_type": "code",
   "execution_count": 16,
   "metadata": {
    "hideCode": false,
    "hidePrompt": false,
    "scrolled": true
   },
   "outputs": [
    {
     "name": "stdout",
     "output_type": "stream",
     "text": [
      "141\n"
     ]
    },
    {
     "data": {
      "text/plain": [
       "ext_link           0.035461\n",
       "ext_search         0.092199\n",
       "purchase           0.106383\n",
       "clicks             4.000000\n",
       "card_added         0.184397\n",
       "card_ordered       0.120567\n",
       "year            2017.092199\n",
       "month              6.553191\n",
       "day               16.787234\n",
       "hour              16.007092\n",
       "dtype: float64"
      ]
     },
     "execution_count": 16,
     "metadata": {},
     "output_type": "execute_result"
    }
   ],
   "source": [
    "subset_clicked = subset[(subset['clicks']>1)]\n",
    "print (len(subset_clicked))\n",
    "subset_clicked.mean()"
   ]
  },
  {
   "cell_type": "code",
   "execution_count": 17,
   "metadata": {
    "hideCode": false,
    "hidePrompt": false
   },
   "outputs": [],
   "source": [
    "subset_clicked = subset_clicked.sort_values('card_ordered', ascending=False)\n",
    "subset_clicked.reset_index(drop=True, inplace=True)\n",
    "#subset_clicked"
   ]
  },
  {
   "cell_type": "code",
   "execution_count": 18,
   "metadata": {
    "hideCode": false,
    "hidePrompt": false
   },
   "outputs": [],
   "source": [
    "cols = ['category','keyword','purchase','clicks','card_added','card_ordered']\n",
    "#print(subset_clicked.loc[:,cols].head(30))\n"
   ]
  },
  {
   "cell_type": "code",
   "execution_count": 19,
   "metadata": {
    "hideCode": false,
    "hidePrompt": false
   },
   "outputs": [
    {
     "data": {
      "text/html": [
       "<div>\n",
       "<style scoped>\n",
       "    .dataframe tbody tr th:only-of-type {\n",
       "        vertical-align: middle;\n",
       "    }\n",
       "\n",
       "    .dataframe tbody tr th {\n",
       "        vertical-align: top;\n",
       "    }\n",
       "\n",
       "    .dataframe thead th {\n",
       "        text-align: right;\n",
       "    }\n",
       "</style>\n",
       "<table border=\"1\" class=\"dataframe\">\n",
       "  <thead>\n",
       "    <tr style=\"text-align: right;\">\n",
       "      <th></th>\n",
       "      <th>category</th>\n",
       "      <th>clicks</th>\n",
       "      <th>card_added</th>\n",
       "      <th>card_ordered</th>\n",
       "    </tr>\n",
       "  </thead>\n",
       "  <tbody>\n",
       "    <tr>\n",
       "      <td>1</td>\n",
       "      <td>toys</td>\n",
       "      <td>53</td>\n",
       "      <td>0</td>\n",
       "      <td>0</td>\n",
       "    </tr>\n",
       "    <tr>\n",
       "      <td>2</td>\n",
       "      <td>computers</td>\n",
       "      <td>40</td>\n",
       "      <td>0</td>\n",
       "      <td>0</td>\n",
       "    </tr>\n",
       "    <tr>\n",
       "      <td>3</td>\n",
       "      <td>instant-video</td>\n",
       "      <td>37</td>\n",
       "      <td>3</td>\n",
       "      <td>1</td>\n",
       "    </tr>\n",
       "    <tr>\n",
       "      <td>4</td>\n",
       "      <td>clothing</td>\n",
       "      <td>28</td>\n",
       "      <td>4</td>\n",
       "      <td>2</td>\n",
       "    </tr>\n",
       "    <tr>\n",
       "      <td>5</td>\n",
       "      <td>stripbooks</td>\n",
       "      <td>27</td>\n",
       "      <td>0</td>\n",
       "      <td>0</td>\n",
       "    </tr>\n",
       "    <tr>\n",
       "      <td>6</td>\n",
       "      <td>electronics</td>\n",
       "      <td>25</td>\n",
       "      <td>2</td>\n",
       "      <td>2</td>\n",
       "    </tr>\n",
       "    <tr>\n",
       "      <td>7</td>\n",
       "      <td>shoes</td>\n",
       "      <td>14</td>\n",
       "      <td>1</td>\n",
       "      <td>1</td>\n",
       "    </tr>\n",
       "    <tr>\n",
       "      <td>8</td>\n",
       "      <td>digital-text</td>\n",
       "      <td>10</td>\n",
       "      <td>0</td>\n",
       "      <td>0</td>\n",
       "    </tr>\n",
       "    <tr>\n",
       "      <td>9</td>\n",
       "      <td>specialty-aps</td>\n",
       "      <td>7</td>\n",
       "      <td>0</td>\n",
       "      <td>0</td>\n",
       "    </tr>\n",
       "    <tr>\n",
       "      <td>10</td>\n",
       "      <td>kitchen</td>\n",
       "      <td>7</td>\n",
       "      <td>2</td>\n",
       "      <td>1</td>\n",
       "    </tr>\n",
       "    <tr>\n",
       "      <td>11</td>\n",
       "      <td>lighting</td>\n",
       "      <td>5</td>\n",
       "      <td>0</td>\n",
       "      <td>0</td>\n",
       "    </tr>\n",
       "    <tr>\n",
       "      <td>12</td>\n",
       "      <td>dvd</td>\n",
       "      <td>4</td>\n",
       "      <td>0</td>\n",
       "      <td>0</td>\n",
       "    </tr>\n",
       "    <tr>\n",
       "      <td>13</td>\n",
       "      <td>mi</td>\n",
       "      <td>4</td>\n",
       "      <td>0</td>\n",
       "      <td>0</td>\n",
       "    </tr>\n",
       "    <tr>\n",
       "      <td>14</td>\n",
       "      <td>grocery</td>\n",
       "      <td>3</td>\n",
       "      <td>1</td>\n",
       "      <td>1</td>\n",
       "    </tr>\n",
       "    <tr>\n",
       "      <td>15</td>\n",
       "      <td>baby</td>\n",
       "      <td>3</td>\n",
       "      <td>0</td>\n",
       "      <td>0</td>\n",
       "    </tr>\n",
       "    <tr>\n",
       "      <td>16</td>\n",
       "      <td>prime-instant-video</td>\n",
       "      <td>2</td>\n",
       "      <td>0</td>\n",
       "      <td>0</td>\n",
       "    </tr>\n",
       "    <tr>\n",
       "      <td>17</td>\n",
       "      <td>sports</td>\n",
       "      <td>2</td>\n",
       "      <td>0</td>\n",
       "      <td>0</td>\n",
       "    </tr>\n",
       "  </tbody>\n",
       "</table>\n",
       "</div>"
      ],
      "text/plain": [
       "               category  clicks  card_added  card_ordered\n",
       "1                  toys      53           0             0\n",
       "2             computers      40           0             0\n",
       "3         instant-video      37           3             1\n",
       "4              clothing      28           4             2\n",
       "5            stripbooks      27           0             0\n",
       "6           electronics      25           2             2\n",
       "7                 shoes      14           1             1\n",
       "8          digital-text      10           0             0\n",
       "9         specialty-aps       7           0             0\n",
       "10              kitchen       7           2             1\n",
       "11             lighting       5           0             0\n",
       "12                  dvd       4           0             0\n",
       "13                   mi       4           0             0\n",
       "14              grocery       3           1             1\n",
       "15                 baby       3           0             0\n",
       "16  prime-instant-video       2           0             0\n",
       "17               sports       2           0             0"
      ]
     },
     "execution_count": 19,
     "metadata": {},
     "output_type": "execute_result"
    }
   ],
   "source": [
    "clicks=subset_clicked.groupby(['category']).sum()\n",
    "\n",
    "clicks = clicks.loc[:,['clicks','card_added','card_ordered']].sort_values('clicks', ascending=False)\n",
    "clicks.reset_index(inplace=True)\n",
    "clicks = clicks.loc[1:,:]\n",
    "clicks [0:40]"
   ]
  },
  {
   "cell_type": "code",
   "execution_count": 20,
   "metadata": {
    "hideCode": false,
    "hidePrompt": false
   },
   "outputs": [
    {
     "data": {
      "text/plain": [
       "[Text(0, 0, 'toys'),\n",
       " Text(0, 0, 'computers'),\n",
       " Text(0, 0, 'instant-video'),\n",
       " Text(0, 0, 'clothing'),\n",
       " Text(0, 0, 'stripbooks'),\n",
       " Text(0, 0, 'electronics'),\n",
       " Text(0, 0, 'shoes'),\n",
       " Text(0, 0, 'digital-text'),\n",
       " Text(0, 0, 'specialty-aps'),\n",
       " Text(0, 0, 'kitchen'),\n",
       " Text(0, 0, 'lighting'),\n",
       " Text(0, 0, 'dvd'),\n",
       " Text(0, 0, 'mi'),\n",
       " Text(0, 0, 'grocery'),\n",
       " Text(0, 0, 'baby'),\n",
       " Text(0, 0, 'prime-instant-video'),\n",
       " Text(0, 0, 'sports')]"
      ]
     },
     "execution_count": 20,
     "metadata": {},
     "output_type": "execute_result"
    },
    {
     "data": {
      "image/png": "[encoded data removed]",
      "text/plain": [
       "<Figure size 1224x360 with 1 Axes>"
      ]
     },
     "metadata": {
      "needs_background": "light"
     },
     "output_type": "display_data"
    }
   ],
   "source": [
    "ax = clicks.plot('category',['clicks','card_added','card_ordered'],\\\n",
    "                   grid=False, kind='bar',ylim =[0,50], width=0.8, figsize=(17,5))\n",
    "ax.set_xticklabels(clicks['category'], rotation=80)"
   ]
  },
  {
   "cell_type": "code",
   "execution_count": 21,
   "metadata": {
    "hideCode": false,
    "hidePrompt": false
   },
   "outputs": [
    {
     "data": {
      "text/html": [
       "<div>\n",
       "<style scoped>\n",
       "    .dataframe tbody tr th:only-of-type {\n",
       "        vertical-align: middle;\n",
       "    }\n",
       "\n",
       "    .dataframe tbody tr th {\n",
       "        vertical-align: top;\n",
       "    }\n",
       "\n",
       "    .dataframe thead th {\n",
       "        text-align: right;\n",
       "    }\n",
       "</style>\n",
       "<table border=\"1\" class=\"dataframe\">\n",
       "  <thead>\n",
       "    <tr style=\"text-align: right;\">\n",
       "      <th></th>\n",
       "      <th>clicks</th>\n",
       "      <th>card_added</th>\n",
       "      <th>card_ordered</th>\n",
       "    </tr>\n",
       "  </thead>\n",
       "  <tbody>\n",
       "    <tr>\n",
       "      <td>clicks</td>\n",
       "      <td>1.000000</td>\n",
       "      <td>0.326855</td>\n",
       "      <td>0.287283</td>\n",
       "    </tr>\n",
       "    <tr>\n",
       "      <td>card_added</td>\n",
       "      <td>0.326855</td>\n",
       "      <td>1.000000</td>\n",
       "      <td>0.977128</td>\n",
       "    </tr>\n",
       "    <tr>\n",
       "      <td>card_ordered</td>\n",
       "      <td>0.287283</td>\n",
       "      <td>0.977128</td>\n",
       "      <td>1.000000</td>\n",
       "    </tr>\n",
       "  </tbody>\n",
       "</table>\n",
       "</div>"
      ],
      "text/plain": [
       "                clicks  card_added  card_ordered\n",
       "clicks        1.000000    0.326855      0.287283\n",
       "card_added    0.326855    1.000000      0.977128\n",
       "card_ordered  0.287283    0.977128      1.000000"
      ]
     },
     "execution_count": 21,
     "metadata": {},
     "output_type": "execute_result"
    }
   ],
   "source": [
    "spearmancorr = clicks.corr(method ='spearman') #non-parametric since no normal distribution \n",
    "spearmancorr"
   ]
  },
  {
   "cell_type": "code",
   "execution_count": 22,
   "metadata": {
    "hideCode": false,
    "hidePrompt": false
   },
   "outputs": [
    {
     "data": {
      "text/plain": [
       "<matplotlib.axes._subplots.AxesSubplot at 0x120052da0>"
      ]
     },
     "execution_count": 22,
     "metadata": {},
     "output_type": "execute_result"
    },
    {
     "data": {
      "image/png": "[encoded data removed]",
      "text/plain": [
       "<Figure size 360x360 with 2 Axes>"
      ]
     },
     "metadata": {
      "needs_background": "light"
     },
     "output_type": "display_data"
    }
   ],
   "source": [
    "fig, ax = plt.subplots(figsize=(5,5))  \n",
    "sns.set(font_scale=1.3)\n",
    "\n",
    "sns.heatmap(spearmancorr, \n",
    "            xticklabels=spearmancorr.columns,\n",
    "            yticklabels=spearmancorr.columns,\n",
    "            cmap='RdBu_r',\n",
    "            annot=True,\n",
    "            linewidth=0.5\n",
    "           )"
   ]
  },
  {
   "cell_type": "code",
   "execution_count": null,
   "metadata": {},
   "outputs": [],
   "source": []
  }
 ],
 "metadata": {
  "hide_code_all_hidden": false,
  "hide_input": false,
  "kernelspec": {
   "display_name": "Python 3",
   "language": "python",
   "name": "python3"
  },
  "language_info": {
   "codemirror_mode": {
    "name": "ipython",
    "version": 3
   },
   "file_extension": ".py",
   "mimetype": "text/x-python",
   "name": "python",
   "nbconvert_exporter": "python",
   "pygments_lexer": "ipython3",
   "version": "3.7.3"
  },
  "toc": {
   "base_numbering": 1,
   "nav_menu": {},
   "number_sections": true,
   "sideBar": true,
   "skip_h1_title": false,
   "title_cell": "Table of Contents",
   "title_sidebar": "Contents",
   "toc_cell": true,
   "toc_position": {},
   "toc_section_display": true,
   "toc_window_display": true
  }
 },
 "nbformat": 4,
 "nbformat_minor": 2
}
